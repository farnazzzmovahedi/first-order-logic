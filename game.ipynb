{
 "cells": [
  {
   "cell_type": "markdown",
   "metadata": {
    "collapsed": false
   },
   "source": [
    "# First Order Logic"
   ]
  },
  {
   "cell_type": "markdown",
   "metadata": {
    "collapsed": false
   },
   "source": [
    "# Libraries"
   ]
  },
  {
   "cell_type": "code",
   "execution_count": 2,
   "metadata": {
    "ExecuteTime": {
     "end_time": "2025-01-01T11:07:12.333603900Z",
     "start_time": "2025-01-01T11:07:12.328130900Z"
    },
    "collapsed": false
   },
   "outputs": [
    {
     "name": "stdout",
     "output_type": "stream",
     "text": [
      "pygame 2.6.1 (SDL 2.28.4, Python 3.10.11)\n",
      "Hello from the pygame community. https://www.pygame.org/contribute.html\n"
     ]
    }
   ],
   "source": [
    "import pygame\n",
    "import numpy as np\n",
    "import copy\n",
    "from pyswip.prolog import Prolog"
   ]
  },
  {
   "cell_type": "markdown",
   "metadata": {
    "collapsed": false
   },
   "source": [
    "# Environment Theme\n",
    "#### Don't Change this part"
   ]
  },
  {
   "cell_type": "code",
   "execution_count": 3,
   "metadata": {
    "ExecuteTime": {
     "end_time": "2025-01-01T11:07:14.058741800Z",
     "start_time": "2025-01-01T11:07:14.051579500Z"
    },
    "collapsed": false
   },
   "outputs": [],
   "source": [
    "GRID_SIZE = 8\n",
    "TILE_SIZE = 100\n",
    "background = (106, 70, 205)"
   ]
  },
  {
   "cell_type": "markdown",
   "metadata": {
    "collapsed": false
   },
   "source": [
    "# Environment\n",
    "#### Don't Change this part"
   ]
  },
  {
   "cell_type": "code",
   "execution_count": 17,
   "metadata": {
    "ExecuteTime": {
     "end_time": "2025-01-01T11:07:16.032837900Z",
     "start_time": "2025-01-01T11:07:16.009366900Z"
    },
    "collapsed": false
   },
   "outputs": [],
   "source": [
    "class PygameInit:\n",
    "\n",
    "    @classmethod\n",
    "    def initialization(cls):\n",
    "        grid_size_x = GRID_SIZE\n",
    "        grid_size_y = GRID_SIZE\n",
    "        tile_size = TILE_SIZE\n",
    "\n",
    "        pygame.init()\n",
    "        screen = pygame.display.set_mode((grid_size_x * tile_size, grid_size_y * tile_size))\n",
    "        pygame.display.set_caption(\"FOL\")\n",
    "        clock = pygame.time.Clock()\n",
    "\n",
    "        return screen, clock\n",
    "\n",
    "class FirstOrderAngry:\n",
    "    def __init__(self, template: str):\n",
    "        self.__grid_size = GRID_SIZE\n",
    "        self.__tile_size = TILE_SIZE\n",
    "        self.__template_name = template\n",
    "\n",
    "        self.__base_grid = self.__generate_grid()\n",
    "        self.grid = copy.deepcopy(self.__base_grid)\n",
    "        self.__base_grid = copy.deepcopy(self.grid)\n",
    "\n",
    "        self.__bird_image = pygame.image.load('Env/icons/angry-birds.png')\n",
    "        self.__bird_image = pygame.transform.scale(self.__bird_image, (self.__tile_size, self.__tile_size))\n",
    "        self.__bird_with_background = pygame.Surface((self.__tile_size, self.__tile_size))\n",
    "        self.__bird_with_background.fill(background)\n",
    "        self.__bird_with_background.blit(self.__bird_image, (0, 0))\n",
    "\n",
    "        self.__pig_image = pygame.image.load('Env/icons/pigs.png')\n",
    "        self.__pig_image = pygame.transform.scale(self.__pig_image, (self.__tile_size, self.__tile_size))\n",
    "        self.__pig_with_background = pygame.Surface((self.__tile_size, self.__tile_size))\n",
    "        self.__pig_with_background.fill(background)\n",
    "        self.__pig_with_background.blit(self.__pig_image, (0, 0))\n",
    "\n",
    "        self.__rock_image = pygame.image.load('Env/icons/rocks.png')\n",
    "        self.__rock_image = pygame.transform.scale(self.__rock_image, (self.__tile_size, self.__tile_size))\n",
    "        self.__rock_with_background = pygame.Surface((self.__tile_size, self.__tile_size))\n",
    "        self.__rock_with_background.fill(background)\n",
    "        self.__rock_with_background.blit(self.__rock_image, (0, 0))\n",
    "\n",
    "\n",
    "    def __generate_grid(self):\n",
    "        grid = [['T' for _ in range(self.__grid_size)] for _ in range(self.__grid_size)]\n",
    "\n",
    "        with open(f'Env/templates/{self.__template_name}.txt') as file:\n",
    "            template_str = file.readlines()\n",
    "\n",
    "        for i in range(self.__grid_size):\n",
    "            for j in range(self.__grid_size):\n",
    "                grid[i][j] = template_str[i][j]\n",
    "\n",
    "        return grid\n",
    "\n",
    "    def reset(self):\n",
    "        self.grid = copy.deepcopy(self.__base_grid)\n",
    "\n",
    "    def bird_step(self, action):\n",
    "        bird_pos = self.get_bird_position()\n",
    "        actions = {\n",
    "            0: (-1, 0),  # Up\n",
    "            1: (1, 0),   # Down\n",
    "            2: (0, -1),  # Left\n",
    "            3: (0, 1)    # Right\n",
    "        }\n",
    "\n",
    "        dx, dy = actions[action]\n",
    "        new_row, new_col = bird_pos[0] + dx, bird_pos[1] + dy\n",
    "\n",
    "        if self.__is_valid_for_bird_position(self.grid, new_row, new_col):\n",
    "            self.grid[bird_pos[0]][bird_pos[1]] = 'T'\n",
    "            bird_pos = (new_row, new_col)\n",
    "            self.grid[bird_pos[0]][bird_pos[1]] = 'B'\n",
    "\n",
    "        is_win = self.is_win()\n",
    "        return bird_pos, is_win\n",
    "\n",
    "\n",
    "    def get_bird_position(self):\n",
    "        for r in range(len(self.grid)):\n",
    "            for c in range(len(self.grid)):\n",
    "                if self.grid[r][c] == 'B':\n",
    "                    return tuple([r, c])\n",
    "\n",
    "\n",
    "    def is_win(self):\n",
    "        for r in range(len(self.grid)):\n",
    "            for c in range(len(self.grid)):\n",
    "                if self.grid[r][c] == 'P':\n",
    "                    return False\n",
    "        return True\n",
    "\n",
    "\n",
    "    def render(self, screen):\n",
    "        for r in range(self.__grid_size):\n",
    "            for c in range(self.__grid_size):\n",
    "                color = background\n",
    "                pygame.draw.rect(screen, color, (c * self.__tile_size, r * self.__tile_size, self.__tile_size,\n",
    "                                                 self.__tile_size))\n",
    "                if self.grid[r][c] == 'E':\n",
    "                    screen.blit(self.__egg_with_background, (c * self.__tile_size, r * self.__tile_size))\n",
    "\n",
    "                if self.grid[r][c] == 'B':\n",
    "                    screen.blit(self.__bird_with_background, (c * self.__tile_size, r * self.__tile_size))\n",
    "\n",
    "                if self.grid[r][c] == 'R':\n",
    "                    screen.blit(self.__rock_with_background, (c * self.__tile_size, r * self.__tile_size))\n",
    "\n",
    "                if self.grid[r][c] == 'P':\n",
    "                    screen.blit(self.__pig_with_background, (c * self.__tile_size, r * self.__tile_size))\n",
    "\n",
    "        for r in range(self.__grid_size + 1):\n",
    "            pygame.draw.line(screen, (0, 0, 0), (0, r * self.__tile_size), (self.__grid_size * self.__tile_size,\n",
    "                                                                            r * self.__tile_size), 2)\n",
    "        for c in range(self.__grid_size + 1):\n",
    "            pygame.draw.line(screen, (0, 0, 0), (c * self.__tile_size, 0), (c * self.__tile_size,\n",
    "                                                                            self.__grid_size * self.__tile_size), 2)\n",
    "\n",
    "    @classmethod\n",
    "    def __is_valid_for_bird_position(cls, grid, new_row, new_col):\n",
    "        return (0 <= new_row < len(grid)\n",
    "                and 0 <= new_col < len(grid)\n",
    "                and grid[new_row][new_col] != 'R')"
   ]
  },
  {
   "cell_type": "code",
   "execution_count": null,
   "metadata": {},
   "outputs": [],
   "source": []
  },
  {
   "cell_type": "code",
   "execution_count": 31,
   "metadata": {},
   "outputs": [
    {
     "name": "stdout",
     "output_type": "stream",
     "text": [
      "Grid exported to 'grid.pl'\n"
     ]
    }
   ],
   "source": [
    "env = FirstOrderAngry(template='test4')\n",
    "\n",
    "with open(\"grid.pl\", \"a\") as file:\n",
    "    grid = env.grid\n",
    "\n",
    "    grid_size = len(grid)\n",
    "\n",
    "    # Write grid size fact\n",
    "    file.write(\"% Define the grid size\\n\")\n",
    "    file.write(f\"grid_size({grid_size}, {grid_size}).\\n\\n\")\n",
    "\n",
    "    # Initialize fact lists\n",
    "    bird_positions = []\n",
    "    pig_positions = []\n",
    "    rock_positions = []\n",
    "    tile_positions = []\n",
    "\n",
    "    # Iterate over the grid to categorize facts\n",
    "    for row in range(grid_size):\n",
    "        for col in range(grid_size):\n",
    "            cell = grid[row][col]\n",
    "            if cell == \"B\":\n",
    "                bird_positions.append(f\"bird({row}, {col}).\\n\")\n",
    "            elif cell == \"P\":\n",
    "                pig_positions.append(f\"pig({row}, {col}).\\n\")\n",
    "                tile_positions.append(f\"tile({row}, {col}).\\n\")\n",
    "            elif cell == \"R\":\n",
    "                rock_positions.append(f\"rock({row}, {col}).\\n\")\n",
    "            elif cell == \"T\":\n",
    "                tile_positions.append(f\"tile({row}, {col}).\\n\")\n",
    "\n",
    "    # Write bird facts\n",
    "    file.write(\"% Bird position\\n\")\n",
    "    file.writelines(bird_positions)\n",
    "    file.write(\"\\n\")\n",
    "\n",
    "    # Write pig facts\n",
    "    file.write(\"% Pig positions\\n\")\n",
    "    file.writelines(pig_positions)\n",
    "    file.write(\"\\n\")\n",
    "\n",
    "    # Write rock facts\n",
    "    file.write(\"% Rock positions\\n\")\n",
    "    file.writelines(rock_positions)\n",
    "    file.write(\"\\n\")\n",
    "\n",
    "    # Write tile facts\n",
    "    file.write(\"% Tile positions (valid positions to move)\\n\")\n",
    "    file.writelines(tile_positions)\n",
    "    file.write(\"\\n\")\n",
    "\n",
    "\n",
    "print(\"Grid exported to 'grid.pl'\")\n",
    "\n"
   ]
  },
  {
   "cell_type": "markdown",
   "metadata": {
    "collapsed": false
   },
   "source": [
    "# Knowledge base"
   ]
  },
  {
   "cell_type": "markdown",
   "metadata": {
    "collapsed": false
   },
   "source": [
    "# Game"
   ]
  },
  {
   "cell_type": "code",
   "execution_count": 33,
   "metadata": {
    "ExecuteTime": {
     "end_time": "2025-01-01T11:09:31.461387800Z",
     "start_time": "2025-01-01T11:07:22.355264500Z"
    },
    "collapsed": false
   },
   "outputs": [
    {
     "ename": "error",
     "evalue": "display Surface quit",
     "output_type": "error",
     "traceback": [
      "\u001b[1;31m---------------------------------------------------------------------------\u001b[0m",
      "\u001b[1;31merror\u001b[0m                                     Traceback (most recent call last)",
      "Cell \u001b[1;32mIn[33], line 32\u001b[0m\n\u001b[0;32m     29\u001b[0m     \u001b[38;5;28;01mbreak\u001b[39;00m\n\u001b[0;32m     31\u001b[0m bird_pos, is_win \u001b[38;5;241m=\u001b[39m env\u001b[38;5;241m.\u001b[39mbird_step(action)\n\u001b[1;32m---> 32\u001b[0m \u001b[43menv\u001b[49m\u001b[38;5;241;43m.\u001b[39;49m\u001b[43mrender\u001b[49m\u001b[43m(\u001b[49m\u001b[43mscreen\u001b[49m\u001b[43m)\u001b[49m\n\u001b[0;32m     34\u001b[0m \u001b[38;5;28;01mif\u001b[39;00m is_win:\n\u001b[0;32m     35\u001b[0m     \u001b[38;5;28mprint\u001b[39m(\u001b[38;5;124m\"\u001b[39m\u001b[38;5;124mWin\u001b[39m\u001b[38;5;124m\"\u001b[39m)\n",
      "Cell \u001b[1;32mIn[17], line 100\u001b[0m, in \u001b[0;36mFirstOrderAngry.render\u001b[1;34m(self, screen)\u001b[0m\n\u001b[0;32m     98\u001b[0m \u001b[38;5;28;01mfor\u001b[39;00m c \u001b[38;5;129;01min\u001b[39;00m \u001b[38;5;28mrange\u001b[39m(\u001b[38;5;28mself\u001b[39m\u001b[38;5;241m.\u001b[39m__grid_size):\n\u001b[0;32m     99\u001b[0m     color \u001b[38;5;241m=\u001b[39m background\n\u001b[1;32m--> 100\u001b[0m     \u001b[43mpygame\u001b[49m\u001b[38;5;241;43m.\u001b[39;49m\u001b[43mdraw\u001b[49m\u001b[38;5;241;43m.\u001b[39;49m\u001b[43mrect\u001b[49m\u001b[43m(\u001b[49m\u001b[43mscreen\u001b[49m\u001b[43m,\u001b[49m\u001b[43m \u001b[49m\u001b[43mcolor\u001b[49m\u001b[43m,\u001b[49m\u001b[43m \u001b[49m\u001b[43m(\u001b[49m\u001b[43mc\u001b[49m\u001b[43m \u001b[49m\u001b[38;5;241;43m*\u001b[39;49m\u001b[43m \u001b[49m\u001b[38;5;28;43mself\u001b[39;49m\u001b[38;5;241;43m.\u001b[39;49m\u001b[43m__tile_size\u001b[49m\u001b[43m,\u001b[49m\u001b[43m \u001b[49m\u001b[43mr\u001b[49m\u001b[43m \u001b[49m\u001b[38;5;241;43m*\u001b[39;49m\u001b[43m \u001b[49m\u001b[38;5;28;43mself\u001b[39;49m\u001b[38;5;241;43m.\u001b[39;49m\u001b[43m__tile_size\u001b[49m\u001b[43m,\u001b[49m\u001b[43m \u001b[49m\u001b[38;5;28;43mself\u001b[39;49m\u001b[38;5;241;43m.\u001b[39;49m\u001b[43m__tile_size\u001b[49m\u001b[43m,\u001b[49m\n\u001b[0;32m    101\u001b[0m \u001b[43m                                     \u001b[49m\u001b[38;5;28;43mself\u001b[39;49m\u001b[38;5;241;43m.\u001b[39;49m\u001b[43m__tile_size\u001b[49m\u001b[43m)\u001b[49m\u001b[43m)\u001b[49m\n\u001b[0;32m    102\u001b[0m     \u001b[38;5;28;01mif\u001b[39;00m \u001b[38;5;28mself\u001b[39m\u001b[38;5;241m.\u001b[39mgrid[r][c] \u001b[38;5;241m==\u001b[39m \u001b[38;5;124m'\u001b[39m\u001b[38;5;124mE\u001b[39m\u001b[38;5;124m'\u001b[39m:\n\u001b[0;32m    103\u001b[0m         screen\u001b[38;5;241m.\u001b[39mblit(\u001b[38;5;28mself\u001b[39m\u001b[38;5;241m.\u001b[39m__egg_with_background, (c \u001b[38;5;241m*\u001b[39m \u001b[38;5;28mself\u001b[39m\u001b[38;5;241m.\u001b[39m__tile_size, r \u001b[38;5;241m*\u001b[39m \u001b[38;5;28mself\u001b[39m\u001b[38;5;241m.\u001b[39m__tile_size))\n",
      "\u001b[1;31merror\u001b[0m: display Surface quit"
     ]
    }
   ],
   "source": [
    "\n",
    "\n",
    "# Initialize Prolog and load your Prolog file\n",
    "prolog = Prolog()\n",
    "prolog.consult(\"grid.pl\")\n",
    "\n",
    "# Get the action list from Prolog\n",
    "actions = list(prolog.query(\"solve_to_python(Actions).\"))[0][\"Actions\"]\n",
    "\n",
    "# Initialize your game\n",
    "screen, clock = PygameInit.initialization()\n",
    "FPS = 1\n",
    "\n",
    "env.reset()\n",
    "\n",
    "running = True\n",
    "current_action_index = 0\n",
    "\n",
    "while running:\n",
    "    for event in pygame.event.get():\n",
    "        if event.type == pygame.QUIT:\n",
    "            pygame.quit()\n",
    "            running = False\n",
    "\n",
    "    # Select actions based on the extracted path\n",
    "    if current_action_index < len(actions):\n",
    "        action = actions[current_action_index]\n",
    "        current_action_index += 1\n",
    "    else:\n",
    "        print(\"No more actions in the sequence.\")\n",
    "        break\n",
    "\n",
    "    bird_pos, is_win = env.bird_step(action)\n",
    "    env.render(screen)\n",
    "\n",
    "    if is_win:\n",
    "        print(\"Win\")\n",
    "        running = False\n",
    "\n",
    "    pygame.display.flip()\n",
    "    clock.tick(FPS)\n",
    "\n",
    "pygame.quit()\n"
   ]
  },
  {
   "cell_type": "code",
   "execution_count": null,
   "metadata": {},
   "outputs": [],
   "source": []
  }
 ],
 "metadata": {
  "kernelspec": {
   "display_name": ".venv",
   "language": "python",
   "name": "python3"
  },
  "language_info": {
   "codemirror_mode": {
    "name": "ipython",
    "version": 3
   },
   "file_extension": ".py",
   "mimetype": "text/x-python",
   "name": "python",
   "nbconvert_exporter": "python",
   "pygments_lexer": "ipython3",
   "version": "3.10.11"
  }
 },
 "nbformat": 4,
 "nbformat_minor": 0
}
